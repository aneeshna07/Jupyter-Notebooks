{
 "cells": [
  {
   "cell_type": "code",
   "execution_count": 1,
   "id": "5064bff8",
   "metadata": {
    "_cell_guid": "bf4d3629-e60d-3eb9-aa4f-791e6585f85c",
    "execution": {
     "iopub.execute_input": "2022-04-29T14:16:53.954063Z",
     "iopub.status.busy": "2022-04-29T14:16:53.953643Z",
     "iopub.status.idle": "2022-04-29T14:16:55.083322Z",
     "shell.execute_reply": "2022-04-29T14:16:55.082284Z"
    },
    "papermill": {
     "duration": 1.170304,
     "end_time": "2022-04-29T14:16:55.085646",
     "exception": false,
     "start_time": "2022-04-29T14:16:53.915342",
     "status": "completed"
    },
    "tags": []
   },
   "outputs": [],
   "source": [
    "import numpy as np \n",
    "import pandas as pd \n",
    "import matplotlib as mpl\n",
    "import matplotlib.pyplot as plt\n",
    "import seaborn as sns\n",
    "%matplotlib inline"
   ]
  },
  {
   "cell_type": "code",
   "execution_count": 2,
   "id": "e3302625",
   "metadata": {
    "_cell_guid": "21c4543f-1ae4-07b9-551d-a8f7ca521334",
    "execution": {
     "iopub.execute_input": "2022-04-29T14:16:55.201661Z",
     "iopub.status.busy": "2022-04-29T14:16:55.201240Z",
     "iopub.status.idle": "2022-04-29T14:16:55.242178Z",
     "shell.execute_reply": "2022-04-29T14:16:55.241556Z"
    },
    "papermill": {
     "duration": 0.101709,
     "end_time": "2022-04-29T14:16:55.243869",
     "exception": false,
     "start_time": "2022-04-29T14:16:55.142160",
     "status": "completed"
    },
    "tags": []
   },
   "outputs": [],
   "source": [
    "df = pd.read_csv('../input/hr-comma-sepcsv/HR_comma_sep.csv')"
   ]
  },
  {
   "cell_type": "code",
   "execution_count": 3,
   "id": "f9d2eccb",
   "metadata": {
    "_cell_guid": "ae4e15c8-72f5-3036-3427-41735f9c8444",
    "execution": {
     "iopub.execute_input": "2022-04-29T14:16:55.322658Z",
     "iopub.status.busy": "2022-04-29T14:16:55.321947Z",
     "iopub.status.idle": "2022-04-29T14:16:55.327227Z",
     "shell.execute_reply": "2022-04-29T14:16:55.326484Z"
    },
    "papermill": {
     "duration": 0.046852,
     "end_time": "2022-04-29T14:16:55.328762",
     "exception": false,
     "start_time": "2022-04-29T14:16:55.281910",
     "status": "completed"
    },
    "tags": []
   },
   "outputs": [
    {
     "name": "stdout",
     "output_type": "stream",
     "text": [
      "Columns names:\n",
      "['satisfaction_level', 'last_evaluation', 'number_project', 'average_montly_hours', 'time_spend_company', 'Work_accident', 'left', 'promotion_last_5years', 'sales', 'salary']\n"
     ]
    }
   ],
   "source": [
    "columns_names=df.columns.tolist()\n",
    "print(\"Columns names:\")\n",
    "print(columns_names)"
   ]
  },
  {
   "cell_type": "code",
   "execution_count": 4,
   "id": "99195905",
   "metadata": {
    "_cell_guid": "e937f0f0-9de1-d057-22ce-0abdcee66766",
    "execution": {
     "iopub.execute_input": "2022-04-29T14:16:55.407387Z",
     "iopub.status.busy": "2022-04-29T14:16:55.407186Z",
     "iopub.status.idle": "2022-04-29T14:16:55.413480Z",
     "shell.execute_reply": "2022-04-29T14:16:55.412807Z"
    },
    "papermill": {
     "duration": 0.046731,
     "end_time": "2022-04-29T14:16:55.415579",
     "exception": false,
     "start_time": "2022-04-29T14:16:55.368848",
     "status": "completed"
    },
    "tags": []
   },
   "outputs": [
    {
     "data": {
      "text/plain": [
       "(14999, 10)"
      ]
     },
     "execution_count": 4,
     "metadata": {},
     "output_type": "execute_result"
    }
   ],
   "source": [
    "df.shape"
   ]
  },
  {
   "cell_type": "code",
   "execution_count": 5,
   "id": "c5ab0544",
   "metadata": {
    "_cell_guid": "8594669f-f6c0-2bcc-5766-ba49010cf452",
    "execution": {
     "iopub.execute_input": "2022-04-29T14:16:55.531014Z",
     "iopub.status.busy": "2022-04-29T14:16:55.530624Z",
     "iopub.status.idle": "2022-04-29T14:16:55.549687Z",
     "shell.execute_reply": "2022-04-29T14:16:55.548662Z"
    },
    "papermill": {
     "duration": 0.078871,
     "end_time": "2022-04-29T14:16:55.551513",
     "exception": false,
     "start_time": "2022-04-29T14:16:55.472642",
     "status": "completed"
    },
    "tags": []
   },
   "outputs": [
    {
     "data": {
      "text/html": [
       "<div>\n",
       "<style scoped>\n",
       "    .dataframe tbody tr th:only-of-type {\n",
       "        vertical-align: middle;\n",
       "    }\n",
       "\n",
       "    .dataframe tbody tr th {\n",
       "        vertical-align: top;\n",
       "    }\n",
       "\n",
       "    .dataframe thead th {\n",
       "        text-align: right;\n",
       "    }\n",
       "</style>\n",
       "<table border=\"1\" class=\"dataframe\">\n",
       "  <thead>\n",
       "    <tr style=\"text-align: right;\">\n",
       "      <th></th>\n",
       "      <th>satisfaction_level</th>\n",
       "      <th>last_evaluation</th>\n",
       "      <th>number_project</th>\n",
       "      <th>average_montly_hours</th>\n",
       "      <th>time_spend_company</th>\n",
       "      <th>Work_accident</th>\n",
       "      <th>left</th>\n",
       "      <th>promotion_last_5years</th>\n",
       "      <th>sales</th>\n",
       "      <th>salary</th>\n",
       "    </tr>\n",
       "  </thead>\n",
       "  <tbody>\n",
       "    <tr>\n",
       "      <th>0</th>\n",
       "      <td>0.38</td>\n",
       "      <td>0.53</td>\n",
       "      <td>2</td>\n",
       "      <td>157</td>\n",
       "      <td>3</td>\n",
       "      <td>0</td>\n",
       "      <td>1</td>\n",
       "      <td>0</td>\n",
       "      <td>sales</td>\n",
       "      <td>low</td>\n",
       "    </tr>\n",
       "    <tr>\n",
       "      <th>1</th>\n",
       "      <td>0.80</td>\n",
       "      <td>0.86</td>\n",
       "      <td>5</td>\n",
       "      <td>262</td>\n",
       "      <td>6</td>\n",
       "      <td>0</td>\n",
       "      <td>1</td>\n",
       "      <td>0</td>\n",
       "      <td>sales</td>\n",
       "      <td>medium</td>\n",
       "    </tr>\n",
       "    <tr>\n",
       "      <th>2</th>\n",
       "      <td>0.11</td>\n",
       "      <td>0.88</td>\n",
       "      <td>7</td>\n",
       "      <td>272</td>\n",
       "      <td>4</td>\n",
       "      <td>0</td>\n",
       "      <td>1</td>\n",
       "      <td>0</td>\n",
       "      <td>sales</td>\n",
       "      <td>medium</td>\n",
       "    </tr>\n",
       "    <tr>\n",
       "      <th>3</th>\n",
       "      <td>0.72</td>\n",
       "      <td>0.87</td>\n",
       "      <td>5</td>\n",
       "      <td>223</td>\n",
       "      <td>5</td>\n",
       "      <td>0</td>\n",
       "      <td>1</td>\n",
       "      <td>0</td>\n",
       "      <td>sales</td>\n",
       "      <td>low</td>\n",
       "    </tr>\n",
       "    <tr>\n",
       "      <th>4</th>\n",
       "      <td>0.37</td>\n",
       "      <td>0.52</td>\n",
       "      <td>2</td>\n",
       "      <td>159</td>\n",
       "      <td>3</td>\n",
       "      <td>0</td>\n",
       "      <td>1</td>\n",
       "      <td>0</td>\n",
       "      <td>sales</td>\n",
       "      <td>low</td>\n",
       "    </tr>\n",
       "  </tbody>\n",
       "</table>\n",
       "</div>"
      ],
      "text/plain": [
       "   satisfaction_level  last_evaluation  number_project  average_montly_hours  \\\n",
       "0                0.38             0.53               2                   157   \n",
       "1                0.80             0.86               5                   262   \n",
       "2                0.11             0.88               7                   272   \n",
       "3                0.72             0.87               5                   223   \n",
       "4                0.37             0.52               2                   159   \n",
       "\n",
       "   time_spend_company  Work_accident  left  promotion_last_5years  sales  \\\n",
       "0                   3              0     1                      0  sales   \n",
       "1                   6              0     1                      0  sales   \n",
       "2                   4              0     1                      0  sales   \n",
       "3                   5              0     1                      0  sales   \n",
       "4                   3              0     1                      0  sales   \n",
       "\n",
       "   salary  \n",
       "0     low  \n",
       "1  medium  \n",
       "2  medium  \n",
       "3     low  \n",
       "4     low  "
      ]
     },
     "execution_count": 5,
     "metadata": {},
     "output_type": "execute_result"
    }
   ],
   "source": [
    "df.head()"
   ]
  },
  {
   "cell_type": "code",
   "execution_count": 6,
   "id": "ef2baa20",
   "metadata": {
    "_cell_guid": "f4d53e62-c4ea-cb89-f694-e10bdc47490f",
    "execution": {
     "iopub.execute_input": "2022-04-29T14:16:55.672644Z",
     "iopub.status.busy": "2022-04-29T14:16:55.672374Z",
     "iopub.status.idle": "2022-04-29T14:16:55.691458Z",
     "shell.execute_reply": "2022-04-29T14:16:55.691064Z"
    },
    "papermill": {
     "duration": 0.085104,
     "end_time": "2022-04-29T14:16:55.693508",
     "exception": false,
     "start_time": "2022-04-29T14:16:55.608404",
     "status": "completed"
    },
    "tags": []
   },
   "outputs": [
    {
     "data": {
      "text/html": [
       "<div>\n",
       "<style scoped>\n",
       "    .dataframe tbody tr th:only-of-type {\n",
       "        vertical-align: middle;\n",
       "    }\n",
       "\n",
       "    .dataframe tbody tr th {\n",
       "        vertical-align: top;\n",
       "    }\n",
       "\n",
       "    .dataframe thead th {\n",
       "        text-align: right;\n",
       "    }\n",
       "</style>\n",
       "<table border=\"1\" class=\"dataframe\">\n",
       "  <thead>\n",
       "    <tr style=\"text-align: right;\">\n",
       "      <th></th>\n",
       "      <th>satisfaction_level</th>\n",
       "      <th>last_evaluation</th>\n",
       "      <th>number_project</th>\n",
       "      <th>average_montly_hours</th>\n",
       "      <th>time_spend_company</th>\n",
       "      <th>Work_accident</th>\n",
       "      <th>left</th>\n",
       "      <th>promotion_last_5years</th>\n",
       "    </tr>\n",
       "  </thead>\n",
       "  <tbody>\n",
       "    <tr>\n",
       "      <th>satisfaction_level</th>\n",
       "      <td>1.000000</td>\n",
       "      <td>0.105021</td>\n",
       "      <td>-0.142970</td>\n",
       "      <td>-0.020048</td>\n",
       "      <td>-0.100866</td>\n",
       "      <td>0.058697</td>\n",
       "      <td>-0.388375</td>\n",
       "      <td>0.025605</td>\n",
       "    </tr>\n",
       "    <tr>\n",
       "      <th>last_evaluation</th>\n",
       "      <td>0.105021</td>\n",
       "      <td>1.000000</td>\n",
       "      <td>0.349333</td>\n",
       "      <td>0.339742</td>\n",
       "      <td>0.131591</td>\n",
       "      <td>-0.007104</td>\n",
       "      <td>0.006567</td>\n",
       "      <td>-0.008684</td>\n",
       "    </tr>\n",
       "    <tr>\n",
       "      <th>number_project</th>\n",
       "      <td>-0.142970</td>\n",
       "      <td>0.349333</td>\n",
       "      <td>1.000000</td>\n",
       "      <td>0.417211</td>\n",
       "      <td>0.196786</td>\n",
       "      <td>-0.004741</td>\n",
       "      <td>0.023787</td>\n",
       "      <td>-0.006064</td>\n",
       "    </tr>\n",
       "    <tr>\n",
       "      <th>average_montly_hours</th>\n",
       "      <td>-0.020048</td>\n",
       "      <td>0.339742</td>\n",
       "      <td>0.417211</td>\n",
       "      <td>1.000000</td>\n",
       "      <td>0.127755</td>\n",
       "      <td>-0.010143</td>\n",
       "      <td>0.071287</td>\n",
       "      <td>-0.003544</td>\n",
       "    </tr>\n",
       "    <tr>\n",
       "      <th>time_spend_company</th>\n",
       "      <td>-0.100866</td>\n",
       "      <td>0.131591</td>\n",
       "      <td>0.196786</td>\n",
       "      <td>0.127755</td>\n",
       "      <td>1.000000</td>\n",
       "      <td>0.002120</td>\n",
       "      <td>0.144822</td>\n",
       "      <td>0.067433</td>\n",
       "    </tr>\n",
       "    <tr>\n",
       "      <th>Work_accident</th>\n",
       "      <td>0.058697</td>\n",
       "      <td>-0.007104</td>\n",
       "      <td>-0.004741</td>\n",
       "      <td>-0.010143</td>\n",
       "      <td>0.002120</td>\n",
       "      <td>1.000000</td>\n",
       "      <td>-0.154622</td>\n",
       "      <td>0.039245</td>\n",
       "    </tr>\n",
       "    <tr>\n",
       "      <th>left</th>\n",
       "      <td>-0.388375</td>\n",
       "      <td>0.006567</td>\n",
       "      <td>0.023787</td>\n",
       "      <td>0.071287</td>\n",
       "      <td>0.144822</td>\n",
       "      <td>-0.154622</td>\n",
       "      <td>1.000000</td>\n",
       "      <td>-0.061788</td>\n",
       "    </tr>\n",
       "    <tr>\n",
       "      <th>promotion_last_5years</th>\n",
       "      <td>0.025605</td>\n",
       "      <td>-0.008684</td>\n",
       "      <td>-0.006064</td>\n",
       "      <td>-0.003544</td>\n",
       "      <td>0.067433</td>\n",
       "      <td>0.039245</td>\n",
       "      <td>-0.061788</td>\n",
       "      <td>1.000000</td>\n",
       "    </tr>\n",
       "  </tbody>\n",
       "</table>\n",
       "</div>"
      ],
      "text/plain": [
       "                       satisfaction_level  last_evaluation  number_project  \\\n",
       "satisfaction_level               1.000000         0.105021       -0.142970   \n",
       "last_evaluation                  0.105021         1.000000        0.349333   \n",
       "number_project                  -0.142970         0.349333        1.000000   \n",
       "average_montly_hours            -0.020048         0.339742        0.417211   \n",
       "time_spend_company              -0.100866         0.131591        0.196786   \n",
       "Work_accident                    0.058697        -0.007104       -0.004741   \n",
       "left                            -0.388375         0.006567        0.023787   \n",
       "promotion_last_5years            0.025605        -0.008684       -0.006064   \n",
       "\n",
       "                       average_montly_hours  time_spend_company  \\\n",
       "satisfaction_level                -0.020048           -0.100866   \n",
       "last_evaluation                    0.339742            0.131591   \n",
       "number_project                     0.417211            0.196786   \n",
       "average_montly_hours               1.000000            0.127755   \n",
       "time_spend_company                 0.127755            1.000000   \n",
       "Work_accident                     -0.010143            0.002120   \n",
       "left                               0.071287            0.144822   \n",
       "promotion_last_5years             -0.003544            0.067433   \n",
       "\n",
       "                       Work_accident      left  promotion_last_5years  \n",
       "satisfaction_level          0.058697 -0.388375               0.025605  \n",
       "last_evaluation            -0.007104  0.006567              -0.008684  \n",
       "number_project             -0.004741  0.023787              -0.006064  \n",
       "average_montly_hours       -0.010143  0.071287              -0.003544  \n",
       "time_spend_company          0.002120  0.144822               0.067433  \n",
       "Work_accident               1.000000 -0.154622               0.039245  \n",
       "left                       -0.154622  1.000000              -0.061788  \n",
       "promotion_last_5years       0.039245 -0.061788               1.000000  "
      ]
     },
     "execution_count": 6,
     "metadata": {},
     "output_type": "execute_result"
    }
   ],
   "source": [
    "df.corr()"
   ]
  },
  {
   "cell_type": "markdown",
   "id": "598baa94",
   "metadata": {
    "_cell_guid": "715ae8c7-3c10-ac7b-3d52-fc0c445753c8",
    "papermill": {
     "duration": 0.060871,
     "end_time": "2022-04-29T14:16:55.816398",
     "exception": false,
     "start_time": "2022-04-29T14:16:55.755527",
     "status": "completed"
    },
    "tags": []
   },
   "source": [
    "**df.corr()** compute pairwise correlation of columns.Correlation shows how the two variables are related to each other.Positive values shows as one variable increases other variable increases as well. Negative values shows as one variable increases other variable decreases.Bigger the values,more strongly two varibles are correlated and viceversa.\n"
   ]
  },
  {
   "cell_type": "code",
   "execution_count": 7,
   "id": "e12ddb91",
   "metadata": {
    "_cell_guid": "3e75c17d-9c10-a556-3d99-5f32e4f8b4fb",
    "execution": {
     "iopub.execute_input": "2022-04-29T14:16:55.939981Z",
     "iopub.status.busy": "2022-04-29T14:16:55.939270Z",
     "iopub.status.idle": "2022-04-29T14:16:56.559548Z",
     "shell.execute_reply": "2022-04-29T14:16:56.558707Z"
    },
    "papermill": {
     "duration": 0.684109,
     "end_time": "2022-04-29T14:16:56.561370",
     "exception": false,
     "start_time": "2022-04-29T14:16:55.877261",
     "status": "completed"
    },
    "tags": []
   },
   "outputs": [
    {
     "data": {
      "text/plain": [
       "Text(0.5, 1.0, 'Correlation between different labels')"
      ]
     },
     "execution_count": 7,
     "metadata": {},
     "output_type": "execute_result"
    },
    {
     "data": {
      "image/png": "[encoded data removed]",
      "text/plain": [
       "<Figure size 720x720 with 2 Axes>"
      ]
     },
     "metadata": {
      "needs_background": "light"
     },
     "output_type": "display_data"
    }
   ],
   "source": [
    "correlation = df.corr()\n",
    "plt.figure(figsize=(10,10))\n",
    "sns.heatmap(correlation, vmax=1, square=True,annot=True,cmap='cubehelix')\n",
    "plt.title('Correlation between different labels')"
   ]
  },
  {
   "cell_type": "markdown",
   "id": "aac39c35",
   "metadata": {
    "_cell_guid": "c760c111-3856-7d3f-03e0-fd403461a591",
    "papermill": {
     "duration": 0.063008,
     "end_time": "2022-04-29T14:16:56.688437",
     "exception": false,
     "start_time": "2022-04-29T14:16:56.625429",
     "status": "completed"
    },
    "tags": []
   },
   "source": [
    "**Doing some visualisation before moving onto PCA**"
   ]
  },
  {
   "cell_type": "code",
   "execution_count": 8,
   "id": "aaa41f74",
   "metadata": {
    "_cell_guid": "1412290a-29b9-9f62-6cad-fffbc07bf7fd",
    "execution": {
     "iopub.execute_input": "2022-04-29T14:16:56.818844Z",
     "iopub.status.busy": "2022-04-29T14:16:56.818413Z",
     "iopub.status.idle": "2022-04-29T14:16:56.832898Z",
     "shell.execute_reply": "2022-04-29T14:16:56.832346Z"
    },
    "papermill": {
     "duration": 0.082781,
     "end_time": "2022-04-29T14:16:56.834656",
     "exception": false,
     "start_time": "2022-04-29T14:16:56.751875",
     "status": "completed"
    },
    "tags": []
   },
   "outputs": [
    {
     "data": {
      "text/plain": [
       "array(['sales', 'accounting', 'hr', 'technical', 'support', 'management',\n",
       "       'IT', 'product_mng', 'marketing', 'RandD'], dtype=object)"
      ]
     },
     "execution_count": 8,
     "metadata": {},
     "output_type": "execute_result"
    }
   ],
   "source": [
    "df['sales'].unique()"
   ]
  },
  {
   "cell_type": "code",
   "execution_count": 9,
   "id": "caa6cb05",
   "metadata": {
    "_cell_guid": "0216658c-d279-d76c-e9b9-947daf866026",
    "execution": {
     "iopub.execute_input": "2022-04-29T14:16:56.965281Z",
     "iopub.status.busy": "2022-04-29T14:16:56.964803Z",
     "iopub.status.idle": "2022-04-29T14:16:56.988349Z",
     "shell.execute_reply": "2022-04-29T14:16:56.987835Z"
    },
    "papermill": {
     "duration": 0.090502,
     "end_time": "2022-04-29T14:16:56.989938",
     "exception": false,
     "start_time": "2022-04-29T14:16:56.899436",
     "status": "completed"
    },
    "tags": []
   },
   "outputs": [
    {
     "data": {
      "text/html": [
       "<div>\n",
       "<style scoped>\n",
       "    .dataframe tbody tr th:only-of-type {\n",
       "        vertical-align: middle;\n",
       "    }\n",
       "\n",
       "    .dataframe tbody tr th {\n",
       "        vertical-align: top;\n",
       "    }\n",
       "\n",
       "    .dataframe thead th {\n",
       "        text-align: right;\n",
       "    }\n",
       "</style>\n",
       "<table border=\"1\" class=\"dataframe\">\n",
       "  <thead>\n",
       "    <tr style=\"text-align: right;\">\n",
       "      <th></th>\n",
       "      <th>satisfaction_level</th>\n",
       "      <th>last_evaluation</th>\n",
       "      <th>number_project</th>\n",
       "      <th>average_montly_hours</th>\n",
       "      <th>time_spend_company</th>\n",
       "      <th>Work_accident</th>\n",
       "      <th>left</th>\n",
       "      <th>promotion_last_5years</th>\n",
       "    </tr>\n",
       "    <tr>\n",
       "      <th>sales</th>\n",
       "      <th></th>\n",
       "      <th></th>\n",
       "      <th></th>\n",
       "      <th></th>\n",
       "      <th></th>\n",
       "      <th></th>\n",
       "      <th></th>\n",
       "      <th></th>\n",
       "    </tr>\n",
       "  </thead>\n",
       "  <tbody>\n",
       "    <tr>\n",
       "      <th>IT</th>\n",
       "      <td>758.46</td>\n",
       "      <td>879.55</td>\n",
       "      <td>4683</td>\n",
       "      <td>248119</td>\n",
       "      <td>4256</td>\n",
       "      <td>164</td>\n",
       "      <td>273</td>\n",
       "      <td>3</td>\n",
       "    </tr>\n",
       "    <tr>\n",
       "      <th>RandD</th>\n",
       "      <td>487.80</td>\n",
       "      <td>560.44</td>\n",
       "      <td>3033</td>\n",
       "      <td>158030</td>\n",
       "      <td>2650</td>\n",
       "      <td>134</td>\n",
       "      <td>121</td>\n",
       "      <td>27</td>\n",
       "    </tr>\n",
       "    <tr>\n",
       "      <th>accounting</th>\n",
       "      <td>446.51</td>\n",
       "      <td>550.49</td>\n",
       "      <td>2934</td>\n",
       "      <td>154292</td>\n",
       "      <td>2702</td>\n",
       "      <td>96</td>\n",
       "      <td>204</td>\n",
       "      <td>14</td>\n",
       "    </tr>\n",
       "    <tr>\n",
       "      <th>hr</th>\n",
       "      <td>442.52</td>\n",
       "      <td>523.84</td>\n",
       "      <td>2701</td>\n",
       "      <td>146828</td>\n",
       "      <td>2480</td>\n",
       "      <td>89</td>\n",
       "      <td>215</td>\n",
       "      <td>15</td>\n",
       "    </tr>\n",
       "    <tr>\n",
       "      <th>management</th>\n",
       "      <td>391.45</td>\n",
       "      <td>456.12</td>\n",
       "      <td>2432</td>\n",
       "      <td>126787</td>\n",
       "      <td>2711</td>\n",
       "      <td>103</td>\n",
       "      <td>91</td>\n",
       "      <td>69</td>\n",
       "    </tr>\n",
       "    <tr>\n",
       "      <th>marketing</th>\n",
       "      <td>530.76</td>\n",
       "      <td>614.23</td>\n",
       "      <td>3164</td>\n",
       "      <td>171073</td>\n",
       "      <td>3063</td>\n",
       "      <td>138</td>\n",
       "      <td>203</td>\n",
       "      <td>43</td>\n",
       "    </tr>\n",
       "    <tr>\n",
       "      <th>product_mng</th>\n",
       "      <td>558.91</td>\n",
       "      <td>644.71</td>\n",
       "      <td>3434</td>\n",
       "      <td>180369</td>\n",
       "      <td>3135</td>\n",
       "      <td>132</td>\n",
       "      <td>198</td>\n",
       "      <td>0</td>\n",
       "    </tr>\n",
       "    <tr>\n",
       "      <th>sales</th>\n",
       "      <td>2543.81</td>\n",
       "      <td>2938.23</td>\n",
       "      <td>15634</td>\n",
       "      <td>831773</td>\n",
       "      <td>14631</td>\n",
       "      <td>587</td>\n",
       "      <td>1014</td>\n",
       "      <td>100</td>\n",
       "    </tr>\n",
       "    <tr>\n",
       "      <th>support</th>\n",
       "      <td>1378.19</td>\n",
       "      <td>1611.81</td>\n",
       "      <td>8479</td>\n",
       "      <td>447490</td>\n",
       "      <td>7563</td>\n",
       "      <td>345</td>\n",
       "      <td>555</td>\n",
       "      <td>20</td>\n",
       "    </tr>\n",
       "    <tr>\n",
       "      <th>technical</th>\n",
       "      <td>1653.48</td>\n",
       "      <td>1961.39</td>\n",
       "      <td>10548</td>\n",
       "      <td>550793</td>\n",
       "      <td>9279</td>\n",
       "      <td>381</td>\n",
       "      <td>697</td>\n",
       "      <td>28</td>\n",
       "    </tr>\n",
       "  </tbody>\n",
       "</table>\n",
       "</div>"
      ],
      "text/plain": [
       "             satisfaction_level  last_evaluation  number_project  \\\n",
       "sales                                                              \n",
       "IT                       758.46           879.55            4683   \n",
       "RandD                    487.80           560.44            3033   \n",
       "accounting               446.51           550.49            2934   \n",
       "hr                       442.52           523.84            2701   \n",
       "management               391.45           456.12            2432   \n",
       "marketing                530.76           614.23            3164   \n",
       "product_mng              558.91           644.71            3434   \n",
       "sales                   2543.81          2938.23           15634   \n",
       "support                 1378.19          1611.81            8479   \n",
       "technical               1653.48          1961.39           10548   \n",
       "\n",
       "             average_montly_hours  time_spend_company  Work_accident  left  \\\n",
       "sales                                                                        \n",
       "IT                         248119                4256            164   273   \n",
       "RandD                      158030                2650            134   121   \n",
       "accounting                 154292                2702             96   204   \n",
       "hr                         146828                2480             89   215   \n",
       "management                 126787                2711            103    91   \n",
       "marketing                  171073                3063            138   203   \n",
       "product_mng                180369                3135            132   198   \n",
       "sales                      831773               14631            587  1014   \n",
       "support                    447490                7563            345   555   \n",
       "technical                  550793                9279            381   697   \n",
       "\n",
       "             promotion_last_5years  \n",
       "sales                               \n",
       "IT                               3  \n",
       "RandD                           27  \n",
       "accounting                      14  \n",
       "hr                              15  \n",
       "management                      69  \n",
       "marketing                       43  \n",
       "product_mng                      0  \n",
       "sales                          100  \n",
       "support                         20  \n",
       "technical                       28  "
      ]
     },
     "execution_count": 9,
     "metadata": {},
     "output_type": "execute_result"
    }
   ],
   "source": [
    "sales=df.groupby('sales').sum()\n",
    "sales"
   ]
  },
  {
   "cell_type": "code",
   "execution_count": 10,
   "id": "da02785c",
   "metadata": {
    "_cell_guid": "6b073f41-0007-fe97-f6d8-694161c7827b",
    "execution": {
     "iopub.execute_input": "2022-04-29T14:16:57.114914Z",
     "iopub.status.busy": "2022-04-29T14:16:57.114254Z",
     "iopub.status.idle": "2022-04-29T14:16:57.119520Z",
     "shell.execute_reply": "2022-04-29T14:16:57.118822Z"
    },
    "papermill": {
     "duration": 0.070194,
     "end_time": "2022-04-29T14:16:57.121849",
     "exception": false,
     "start_time": "2022-04-29T14:16:57.051655",
     "status": "completed"
    },
    "tags": []
   },
   "outputs": [
    {
     "data": {
      "text/plain": [
       "array(['sales', 'accounting', 'hr', 'technical', 'support', 'management',\n",
       "       'IT', 'product_mng', 'marketing', 'RandD'], dtype=object)"
      ]
     },
     "execution_count": 10,
     "metadata": {},
     "output_type": "execute_result"
    }
   ],
   "source": [
    "df['sales'].unique()"
   ]
  },
  {
   "cell_type": "code",
   "execution_count": 11,
   "id": "6f8a84c2",
   "metadata": {
    "_cell_guid": "908b71f5-d31f-aaa6-5ab0-339a0f11df40",
    "execution": {
     "iopub.execute_input": "2022-04-29T14:16:57.253914Z",
     "iopub.status.busy": "2022-04-29T14:16:57.253563Z",
     "iopub.status.idle": "2022-04-29T14:16:57.273735Z",
     "shell.execute_reply": "2022-04-29T14:16:57.273304Z"
    },
    "papermill": {
     "duration": 0.088265,
     "end_time": "2022-04-29T14:16:57.275581",
     "exception": false,
     "start_time": "2022-04-29T14:16:57.187316",
     "status": "completed"
    },
    "tags": []
   },
   "outputs": [
    {
     "data": {
      "text/html": [
       "<div>\n",
       "<style scoped>\n",
       "    .dataframe tbody tr th:only-of-type {\n",
       "        vertical-align: middle;\n",
       "    }\n",
       "\n",
       "    .dataframe tbody tr th {\n",
       "        vertical-align: top;\n",
       "    }\n",
       "\n",
       "    .dataframe thead th {\n",
       "        text-align: right;\n",
       "    }\n",
       "</style>\n",
       "<table border=\"1\" class=\"dataframe\">\n",
       "  <thead>\n",
       "    <tr style=\"text-align: right;\">\n",
       "      <th></th>\n",
       "      <th>satisfaction_level</th>\n",
       "      <th>last_evaluation</th>\n",
       "      <th>number_project</th>\n",
       "      <th>average_montly_hours</th>\n",
       "      <th>time_spend_company</th>\n",
       "      <th>Work_accident</th>\n",
       "      <th>left</th>\n",
       "      <th>promotion_last_5years</th>\n",
       "    </tr>\n",
       "    <tr>\n",
       "      <th>sales</th>\n",
       "      <th></th>\n",
       "      <th></th>\n",
       "      <th></th>\n",
       "      <th></th>\n",
       "      <th></th>\n",
       "      <th></th>\n",
       "      <th></th>\n",
       "      <th></th>\n",
       "    </tr>\n",
       "  </thead>\n",
       "  <tbody>\n",
       "    <tr>\n",
       "      <th>IT</th>\n",
       "      <td>0.618142</td>\n",
       "      <td>0.716830</td>\n",
       "      <td>3.816626</td>\n",
       "      <td>202.215974</td>\n",
       "      <td>3.468623</td>\n",
       "      <td>0.133659</td>\n",
       "      <td>0.222494</td>\n",
       "      <td>0.002445</td>\n",
       "    </tr>\n",
       "    <tr>\n",
       "      <th>RandD</th>\n",
       "      <td>0.619822</td>\n",
       "      <td>0.712122</td>\n",
       "      <td>3.853875</td>\n",
       "      <td>200.800508</td>\n",
       "      <td>3.367217</td>\n",
       "      <td>0.170267</td>\n",
       "      <td>0.153748</td>\n",
       "      <td>0.034307</td>\n",
       "    </tr>\n",
       "    <tr>\n",
       "      <th>accounting</th>\n",
       "      <td>0.582151</td>\n",
       "      <td>0.717718</td>\n",
       "      <td>3.825293</td>\n",
       "      <td>201.162973</td>\n",
       "      <td>3.522816</td>\n",
       "      <td>0.125163</td>\n",
       "      <td>0.265971</td>\n",
       "      <td>0.018253</td>\n",
       "    </tr>\n",
       "    <tr>\n",
       "      <th>hr</th>\n",
       "      <td>0.598809</td>\n",
       "      <td>0.708850</td>\n",
       "      <td>3.654939</td>\n",
       "      <td>198.684709</td>\n",
       "      <td>3.355886</td>\n",
       "      <td>0.120433</td>\n",
       "      <td>0.290934</td>\n",
       "      <td>0.020298</td>\n",
       "    </tr>\n",
       "    <tr>\n",
       "      <th>management</th>\n",
       "      <td>0.621349</td>\n",
       "      <td>0.724000</td>\n",
       "      <td>3.860317</td>\n",
       "      <td>201.249206</td>\n",
       "      <td>4.303175</td>\n",
       "      <td>0.163492</td>\n",
       "      <td>0.144444</td>\n",
       "      <td>0.109524</td>\n",
       "    </tr>\n",
       "    <tr>\n",
       "      <th>marketing</th>\n",
       "      <td>0.618601</td>\n",
       "      <td>0.715886</td>\n",
       "      <td>3.687646</td>\n",
       "      <td>199.385781</td>\n",
       "      <td>3.569930</td>\n",
       "      <td>0.160839</td>\n",
       "      <td>0.236597</td>\n",
       "      <td>0.050117</td>\n",
       "    </tr>\n",
       "    <tr>\n",
       "      <th>product_mng</th>\n",
       "      <td>0.619634</td>\n",
       "      <td>0.714756</td>\n",
       "      <td>3.807095</td>\n",
       "      <td>199.965632</td>\n",
       "      <td>3.475610</td>\n",
       "      <td>0.146341</td>\n",
       "      <td>0.219512</td>\n",
       "      <td>0.000000</td>\n",
       "    </tr>\n",
       "    <tr>\n",
       "      <th>sales</th>\n",
       "      <td>0.614447</td>\n",
       "      <td>0.709717</td>\n",
       "      <td>3.776329</td>\n",
       "      <td>200.911353</td>\n",
       "      <td>3.534058</td>\n",
       "      <td>0.141787</td>\n",
       "      <td>0.244928</td>\n",
       "      <td>0.024155</td>\n",
       "    </tr>\n",
       "    <tr>\n",
       "      <th>support</th>\n",
       "      <td>0.618300</td>\n",
       "      <td>0.723109</td>\n",
       "      <td>3.803948</td>\n",
       "      <td>200.758188</td>\n",
       "      <td>3.393001</td>\n",
       "      <td>0.154778</td>\n",
       "      <td>0.248991</td>\n",
       "      <td>0.008973</td>\n",
       "    </tr>\n",
       "    <tr>\n",
       "      <th>technical</th>\n",
       "      <td>0.607897</td>\n",
       "      <td>0.721099</td>\n",
       "      <td>3.877941</td>\n",
       "      <td>202.497426</td>\n",
       "      <td>3.411397</td>\n",
       "      <td>0.140074</td>\n",
       "      <td>0.256250</td>\n",
       "      <td>0.010294</td>\n",
       "    </tr>\n",
       "  </tbody>\n",
       "</table>\n",
       "</div>"
      ],
      "text/plain": [
       "             satisfaction_level  last_evaluation  number_project  \\\n",
       "sales                                                              \n",
       "IT                     0.618142         0.716830        3.816626   \n",
       "RandD                  0.619822         0.712122        3.853875   \n",
       "accounting             0.582151         0.717718        3.825293   \n",
       "hr                     0.598809         0.708850        3.654939   \n",
       "management             0.621349         0.724000        3.860317   \n",
       "marketing              0.618601         0.715886        3.687646   \n",
       "product_mng            0.619634         0.714756        3.807095   \n",
       "sales                  0.614447         0.709717        3.776329   \n",
       "support                0.618300         0.723109        3.803948   \n",
       "technical              0.607897         0.721099        3.877941   \n",
       "\n",
       "             average_montly_hours  time_spend_company  Work_accident  \\\n",
       "sales                                                                  \n",
       "IT                     202.215974            3.468623       0.133659   \n",
       "RandD                  200.800508            3.367217       0.170267   \n",
       "accounting             201.162973            3.522816       0.125163   \n",
       "hr                     198.684709            3.355886       0.120433   \n",
       "management             201.249206            4.303175       0.163492   \n",
       "marketing              199.385781            3.569930       0.160839   \n",
       "product_mng            199.965632            3.475610       0.146341   \n",
       "sales                  200.911353            3.534058       0.141787   \n",
       "support                200.758188            3.393001       0.154778   \n",
       "technical              202.497426            3.411397       0.140074   \n",
       "\n",
       "                 left  promotion_last_5years  \n",
       "sales                                         \n",
       "IT           0.222494               0.002445  \n",
       "RandD        0.153748               0.034307  \n",
       "accounting   0.265971               0.018253  \n",
       "hr           0.290934               0.020298  \n",
       "management   0.144444               0.109524  \n",
       "marketing    0.236597               0.050117  \n",
       "product_mng  0.219512               0.000000  \n",
       "sales        0.244928               0.024155  \n",
       "support      0.248991               0.008973  \n",
       "technical    0.256250               0.010294  "
      ]
     },
     "execution_count": 11,
     "metadata": {},
     "output_type": "execute_result"
    }
   ],
   "source": [
    "groupby_sales=df.groupby('sales').mean()\n",
    "groupby_sales"
   ]
  },
  {
   "cell_type": "code",
   "execution_count": 12,
   "id": "9e1dfa7a",
   "metadata": {
    "_cell_guid": "6aaed7f3-b146-6b99-fd0b-96749077da56",
    "execution": {
     "iopub.execute_input": "2022-04-29T14:16:57.411456Z",
     "iopub.status.busy": "2022-04-29T14:16:57.410974Z",
     "iopub.status.idle": "2022-04-29T14:16:57.418460Z",
     "shell.execute_reply": "2022-04-29T14:16:57.417623Z"
    },
    "papermill": {
     "duration": 0.078454,
     "end_time": "2022-04-29T14:16:57.420508",
     "exception": false,
     "start_time": "2022-04-29T14:16:57.342054",
     "status": "completed"
    },
    "tags": []
   },
   "outputs": [],
   "source": [
    "IT=groupby_sales['satisfaction_level'].IT\n",
    "RandD=groupby_sales['satisfaction_level'].RandD\n",
    "accounting=groupby_sales['satisfaction_level'].accounting\n",
    "hr=groupby_sales['satisfaction_level'].hr\n",
    "management=groupby_sales['satisfaction_level'].management\n",
    "marketing=groupby_sales['satisfaction_level'].marketing\n",
    "product_mng=groupby_sales['satisfaction_level'].product_mng\n",
    "sales=groupby_sales['satisfaction_level'].sales\n",
    "support=groupby_sales['satisfaction_level'].support\n",
    "technical=groupby_sales['satisfaction_level'].technical"
   ]
  },
  {
   "cell_type": "code",
   "execution_count": 13,
   "id": "145c8099",
   "metadata": {
    "_cell_guid": "2e89f233-180a-2a39-ffeb-d64d1cba4bbd",
    "execution": {
     "iopub.execute_input": "2022-04-29T14:16:57.547999Z",
     "iopub.status.busy": "2022-04-29T14:16:57.547757Z",
     "iopub.status.idle": "2022-04-29T14:16:57.751167Z",
     "shell.execute_reply": "2022-04-29T14:16:57.750286Z"
    },
    "papermill": {
     "duration": 0.269892,
     "end_time": "2022-04-29T14:16:57.753703",
     "exception": false,
     "start_time": "2022-04-29T14:16:57.483811",
     "status": "completed"
    },
    "tags": []
   },
   "outputs": [
    {
     "data": {
      "text/plain": [
       "Text(0.5, 1.0, 'Mean Satisfaction Level of each department')"
      ]
     },
     "execution_count": 13,
     "metadata": {},
     "output_type": "execute_result"
    },
    {
     "data": {
      "image/png": "[encoded data removed]",
      "text/plain": [
       "<Figure size 432x288 with 1 Axes>"
      ]
     },
     "metadata": {
      "needs_background": "light"
     },
     "output_type": "display_data"
    }
   ],
   "source": [
    "\n",
    "department_name=('sales', 'accounting', 'hr', 'technical', 'support', 'management','IT', 'product_mng', 'marketing', 'RandD')\n",
    "department=(sales, accounting, hr, technical, support, management,IT, product_mng, marketing, RandD)\n",
    "y_pos = np.arange(len(department))\n",
    "x=np.arange(0,1,0.1)\n",
    "\n",
    "plt.barh(y_pos, department, align='center', alpha=0.8)\n",
    "plt.yticks(y_pos,department_name )\n",
    "plt.xlabel('Satisfaction level')\n",
    "plt.title('Mean Satisfaction Level of each department')"
   ]
  },
  {
   "cell_type": "markdown",
   "id": "35433f00",
   "metadata": {
    "_cell_guid": "116c4b0b-cac8-52e4-709e-a5ac78752d07",
    "papermill": {
     "duration": 0.067215,
     "end_time": "2022-04-29T14:16:57.889879",
     "exception": false,
     "start_time": "2022-04-29T14:16:57.822664",
     "status": "completed"
    },
    "tags": []
   },
   "source": [
    "# Principal Component Analysis"
   ]
  },
  {
   "cell_type": "code",
   "execution_count": 14,
   "id": "0ada1e40",
   "metadata": {
    "_cell_guid": "6653ce6e-0f41-e576-b051-09eb2784c93b",
    "execution": {
     "iopub.execute_input": "2022-04-29T14:16:58.026497Z",
     "iopub.status.busy": "2022-04-29T14:16:58.026233Z",
     "iopub.status.idle": "2022-04-29T14:16:58.041698Z",
     "shell.execute_reply": "2022-04-29T14:16:58.040417Z"
    },
    "papermill": {
     "duration": 0.085948,
     "end_time": "2022-04-29T14:16:58.043379",
     "exception": false,
     "start_time": "2022-04-29T14:16:57.957431",
     "status": "completed"
    },
    "tags": []
   },
   "outputs": [
    {
     "data": {
      "text/html": [
       "<div>\n",
       "<style scoped>\n",
       "    .dataframe tbody tr th:only-of-type {\n",
       "        vertical-align: middle;\n",
       "    }\n",
       "\n",
       "    .dataframe tbody tr th {\n",
       "        vertical-align: top;\n",
       "    }\n",
       "\n",
       "    .dataframe thead th {\n",
       "        text-align: right;\n",
       "    }\n",
       "</style>\n",
       "<table border=\"1\" class=\"dataframe\">\n",
       "  <thead>\n",
       "    <tr style=\"text-align: right;\">\n",
       "      <th></th>\n",
       "      <th>satisfaction_level</th>\n",
       "      <th>last_evaluation</th>\n",
       "      <th>number_project</th>\n",
       "      <th>average_montly_hours</th>\n",
       "      <th>time_spend_company</th>\n",
       "      <th>Work_accident</th>\n",
       "      <th>left</th>\n",
       "      <th>promotion_last_5years</th>\n",
       "      <th>sales</th>\n",
       "      <th>salary</th>\n",
       "    </tr>\n",
       "  </thead>\n",
       "  <tbody>\n",
       "    <tr>\n",
       "      <th>0</th>\n",
       "      <td>0.38</td>\n",
       "      <td>0.53</td>\n",
       "      <td>2</td>\n",
       "      <td>157</td>\n",
       "      <td>3</td>\n",
       "      <td>0</td>\n",
       "      <td>1</td>\n",
       "      <td>0</td>\n",
       "      <td>sales</td>\n",
       "      <td>low</td>\n",
       "    </tr>\n",
       "    <tr>\n",
       "      <th>1</th>\n",
       "      <td>0.80</td>\n",
       "      <td>0.86</td>\n",
       "      <td>5</td>\n",
       "      <td>262</td>\n",
       "      <td>6</td>\n",
       "      <td>0</td>\n",
       "      <td>1</td>\n",
       "      <td>0</td>\n",
       "      <td>sales</td>\n",
       "      <td>medium</td>\n",
       "    </tr>\n",
       "    <tr>\n",
       "      <th>2</th>\n",
       "      <td>0.11</td>\n",
       "      <td>0.88</td>\n",
       "      <td>7</td>\n",
       "      <td>272</td>\n",
       "      <td>4</td>\n",
       "      <td>0</td>\n",
       "      <td>1</td>\n",
       "      <td>0</td>\n",
       "      <td>sales</td>\n",
       "      <td>medium</td>\n",
       "    </tr>\n",
       "    <tr>\n",
       "      <th>3</th>\n",
       "      <td>0.72</td>\n",
       "      <td>0.87</td>\n",
       "      <td>5</td>\n",
       "      <td>223</td>\n",
       "      <td>5</td>\n",
       "      <td>0</td>\n",
       "      <td>1</td>\n",
       "      <td>0</td>\n",
       "      <td>sales</td>\n",
       "      <td>low</td>\n",
       "    </tr>\n",
       "    <tr>\n",
       "      <th>4</th>\n",
       "      <td>0.37</td>\n",
       "      <td>0.52</td>\n",
       "      <td>2</td>\n",
       "      <td>159</td>\n",
       "      <td>3</td>\n",
       "      <td>0</td>\n",
       "      <td>1</td>\n",
       "      <td>0</td>\n",
       "      <td>sales</td>\n",
       "      <td>low</td>\n",
       "    </tr>\n",
       "  </tbody>\n",
       "</table>\n",
       "</div>"
      ],
      "text/plain": [
       "   satisfaction_level  last_evaluation  number_project  average_montly_hours  \\\n",
       "0                0.38             0.53               2                   157   \n",
       "1                0.80             0.86               5                   262   \n",
       "2                0.11             0.88               7                   272   \n",
       "3                0.72             0.87               5                   223   \n",
       "4                0.37             0.52               2                   159   \n",
       "\n",
       "   time_spend_company  Work_accident  left  promotion_last_5years  sales  \\\n",
       "0                   3              0     1                      0  sales   \n",
       "1                   6              0     1                      0  sales   \n",
       "2                   4              0     1                      0  sales   \n",
       "3                   5              0     1                      0  sales   \n",
       "4                   3              0     1                      0  sales   \n",
       "\n",
       "   salary  \n",
       "0     low  \n",
       "1  medium  \n",
       "2  medium  \n",
       "3     low  \n",
       "4     low  "
      ]
     },
     "execution_count": 14,
     "metadata": {},
     "output_type": "execute_result"
    }
   ],
   "source": [
    "df.head()"
   ]
  },
  {
   "cell_type": "code",
   "execution_count": 15,
   "id": "14e4ceb2",
   "metadata": {
    "_cell_guid": "e037b5d2-eb93-9824-45cb-1bbec730e929",
    "execution": {
     "iopub.execute_input": "2022-04-29T14:16:58.136020Z",
     "iopub.status.busy": "2022-04-29T14:16:58.134939Z",
     "iopub.status.idle": "2022-04-29T14:16:58.150247Z",
     "shell.execute_reply": "2022-04-29T14:16:58.149546Z"
    },
    "papermill": {
     "duration": 0.06301,
     "end_time": "2022-04-29T14:16:58.151777",
     "exception": false,
     "start_time": "2022-04-29T14:16:58.088767",
     "status": "completed"
    },
    "tags": []
   },
   "outputs": [
    {
     "data": {
      "text/html": [
       "<div>\n",
       "<style scoped>\n",
       "    .dataframe tbody tr th:only-of-type {\n",
       "        vertical-align: middle;\n",
       "    }\n",
       "\n",
       "    .dataframe tbody tr th {\n",
       "        vertical-align: top;\n",
       "    }\n",
       "\n",
       "    .dataframe thead th {\n",
       "        text-align: right;\n",
       "    }\n",
       "</style>\n",
       "<table border=\"1\" class=\"dataframe\">\n",
       "  <thead>\n",
       "    <tr style=\"text-align: right;\">\n",
       "      <th></th>\n",
       "      <th>satisfaction_level</th>\n",
       "      <th>last_evaluation</th>\n",
       "      <th>number_project</th>\n",
       "      <th>average_montly_hours</th>\n",
       "      <th>time_spend_company</th>\n",
       "      <th>Work_accident</th>\n",
       "      <th>left</th>\n",
       "      <th>promotion_last_5years</th>\n",
       "    </tr>\n",
       "  </thead>\n",
       "  <tbody>\n",
       "    <tr>\n",
       "      <th>0</th>\n",
       "      <td>0.38</td>\n",
       "      <td>0.53</td>\n",
       "      <td>2</td>\n",
       "      <td>157</td>\n",
       "      <td>3</td>\n",
       "      <td>0</td>\n",
       "      <td>1</td>\n",
       "      <td>0</td>\n",
       "    </tr>\n",
       "    <tr>\n",
       "      <th>1</th>\n",
       "      <td>0.80</td>\n",
       "      <td>0.86</td>\n",
       "      <td>5</td>\n",
       "      <td>262</td>\n",
       "      <td>6</td>\n",
       "      <td>0</td>\n",
       "      <td>1</td>\n",
       "      <td>0</td>\n",
       "    </tr>\n",
       "    <tr>\n",
       "      <th>2</th>\n",
       "      <td>0.11</td>\n",
       "      <td>0.88</td>\n",
       "      <td>7</td>\n",
       "      <td>272</td>\n",
       "      <td>4</td>\n",
       "      <td>0</td>\n",
       "      <td>1</td>\n",
       "      <td>0</td>\n",
       "    </tr>\n",
       "    <tr>\n",
       "      <th>3</th>\n",
       "      <td>0.72</td>\n",
       "      <td>0.87</td>\n",
       "      <td>5</td>\n",
       "      <td>223</td>\n",
       "      <td>5</td>\n",
       "      <td>0</td>\n",
       "      <td>1</td>\n",
       "      <td>0</td>\n",
       "    </tr>\n",
       "    <tr>\n",
       "      <th>4</th>\n",
       "      <td>0.37</td>\n",
       "      <td>0.52</td>\n",
       "      <td>2</td>\n",
       "      <td>159</td>\n",
       "      <td>3</td>\n",
       "      <td>0</td>\n",
       "      <td>1</td>\n",
       "      <td>0</td>\n",
       "    </tr>\n",
       "  </tbody>\n",
       "</table>\n",
       "</div>"
      ],
      "text/plain": [
       "   satisfaction_level  last_evaluation  number_project  average_montly_hours  \\\n",
       "0                0.38             0.53               2                   157   \n",
       "1                0.80             0.86               5                   262   \n",
       "2                0.11             0.88               7                   272   \n",
       "3                0.72             0.87               5                   223   \n",
       "4                0.37             0.52               2                   159   \n",
       "\n",
       "   time_spend_company  Work_accident  left  promotion_last_5years  \n",
       "0                   3              0     1                      0  \n",
       "1                   6              0     1                      0  \n",
       "2                   4              0     1                      0  \n",
       "3                   5              0     1                      0  \n",
       "4                   3              0     1                      0  "
      ]
     },
     "execution_count": 15,
     "metadata": {},
     "output_type": "execute_result"
    }
   ],
   "source": [
    "df_drop=df.drop(labels=['sales','salary'],axis=1)\n",
    "df_drop.head()"
   ]
  },
  {
   "cell_type": "markdown",
   "id": "9d139744",
   "metadata": {
    "_cell_guid": "7cec556b-797e-fc62-e7d9-c78035fda8e2",
    "papermill": {
     "duration": 0.04568,
     "end_time": "2022-04-29T14:16:58.243388",
     "exception": false,
     "start_time": "2022-04-29T14:16:58.197708",
     "status": "completed"
    },
    "tags": []
   },
   "source": [
    "**df.drop()**  is the method to drop the columns in our dataframe"
   ]
  },
  {
   "cell_type": "markdown",
   "id": "206f49f7",
   "metadata": {
    "_cell_guid": "dede7a0b-5084-b7de-4259-fb5fac90c376",
    "papermill": {
     "duration": 0.069572,
     "end_time": "2022-04-29T14:16:58.358968",
     "exception": false,
     "start_time": "2022-04-29T14:16:58.289396",
     "status": "completed"
    },
    "tags": []
   },
   "source": [
    "Now we need to bring \"left\" column to the front as it is the label and not the feature."
   ]
  },
  {
   "cell_type": "code",
   "execution_count": 16,
   "id": "b1a7b535",
   "metadata": {
    "_cell_guid": "2af16458-8a20-8a23-fa61-796a0cc2ac6a",
    "execution": {
     "iopub.execute_input": "2022-04-29T14:16:58.499750Z",
     "iopub.status.busy": "2022-04-29T14:16:58.499511Z",
     "iopub.status.idle": "2022-04-29T14:16:58.505877Z",
     "shell.execute_reply": "2022-04-29T14:16:58.504906Z"
    },
    "papermill": {
     "duration": 0.077721,
     "end_time": "2022-04-29T14:16:58.507399",
     "exception": false,
     "start_time": "2022-04-29T14:16:58.429678",
     "status": "completed"
    },
    "tags": []
   },
   "outputs": [
    {
     "data": {
      "text/plain": [
       "['satisfaction_level',\n",
       " 'last_evaluation',\n",
       " 'number_project',\n",
       " 'average_montly_hours',\n",
       " 'time_spend_company',\n",
       " 'Work_accident',\n",
       " 'left',\n",
       " 'promotion_last_5years']"
      ]
     },
     "execution_count": 16,
     "metadata": {},
     "output_type": "execute_result"
    }
   ],
   "source": [
    "cols = df_drop.columns.tolist()\n",
    "cols"
   ]
  },
  {
   "cell_type": "markdown",
   "id": "cf710185",
   "metadata": {
    "_cell_guid": "75a23734-4e1a-21eb-e33a-1ee6dd32465c",
    "papermill": {
     "duration": 0.045272,
     "end_time": "2022-04-29T14:16:58.598170",
     "exception": false,
     "start_time": "2022-04-29T14:16:58.552898",
     "status": "completed"
    },
    "tags": []
   },
   "source": [
    "Here we are converting columns of the dataframe to list so it would be easier for us to reshuffle the columns.We are going to use cols.insert method\n"
   ]
  },
  {
   "cell_type": "code",
   "execution_count": 17,
   "id": "511a7578",
   "metadata": {
    "_cell_guid": "be6e0527-b97e-6dc7-16f0-5a2b803c462b",
    "execution": {
     "iopub.execute_input": "2022-04-29T14:16:58.691476Z",
     "iopub.status.busy": "2022-04-29T14:16:58.690493Z",
     "iopub.status.idle": "2022-04-29T14:16:58.694547Z",
     "shell.execute_reply": "2022-04-29T14:16:58.694107Z"
    },
    "papermill": {
     "duration": 0.0523,
     "end_time": "2022-04-29T14:16:58.695856",
     "exception": false,
     "start_time": "2022-04-29T14:16:58.643556",
     "status": "completed"
    },
    "tags": []
   },
   "outputs": [],
   "source": [
    "cols.insert(0, cols.pop(cols.index('left')))"
   ]
  },
  {
   "cell_type": "code",
   "execution_count": 18,
   "id": "29e8026b",
   "metadata": {
    "_cell_guid": "55548349-98fb-244c-bdb0-5ffc6723bc4e",
    "execution": {
     "iopub.execute_input": "2022-04-29T14:16:58.789065Z",
     "iopub.status.busy": "2022-04-29T14:16:58.788743Z",
     "iopub.status.idle": "2022-04-29T14:16:58.795735Z",
     "shell.execute_reply": "2022-04-29T14:16:58.794763Z"
    },
    "papermill": {
     "duration": 0.056487,
     "end_time": "2022-04-29T14:16:58.797702",
     "exception": false,
     "start_time": "2022-04-29T14:16:58.741215",
     "status": "completed"
    },
    "tags": []
   },
   "outputs": [
    {
     "data": {
      "text/plain": [
       "['left',\n",
       " 'satisfaction_level',\n",
       " 'last_evaluation',\n",
       " 'number_project',\n",
       " 'average_montly_hours',\n",
       " 'time_spend_company',\n",
       " 'Work_accident',\n",
       " 'promotion_last_5years']"
      ]
     },
     "execution_count": 18,
     "metadata": {},
     "output_type": "execute_result"
    }
   ],
   "source": [
    "cols"
   ]
  },
  {
   "cell_type": "code",
   "execution_count": 19,
   "id": "df7feb45",
   "metadata": {
    "_cell_guid": "d5a8bee5-82b1-ea41-58a3-07b2a9c100f2",
    "execution": {
     "iopub.execute_input": "2022-04-29T14:16:58.893643Z",
     "iopub.status.busy": "2022-04-29T14:16:58.893318Z",
     "iopub.status.idle": "2022-04-29T14:16:58.898974Z",
     "shell.execute_reply": "2022-04-29T14:16:58.898344Z"
    },
    "papermill": {
     "duration": 0.055649,
     "end_time": "2022-04-29T14:16:58.900792",
     "exception": false,
     "start_time": "2022-04-29T14:16:58.845143",
     "status": "completed"
    },
    "tags": []
   },
   "outputs": [],
   "source": [
    "df_drop = df_drop.reindex(columns= cols)#list to columns"
   ]
  },
  {
   "cell_type": "code",
   "execution_count": 20,
   "id": "09c671b4",
   "metadata": {
    "_cell_guid": "d4906f59-7d57-5979-b239-7fe91ba63482",
    "execution": {
     "iopub.execute_input": "2022-04-29T14:16:59.044353Z",
     "iopub.status.busy": "2022-04-29T14:16:59.043885Z",
     "iopub.status.idle": "2022-04-29T14:16:59.052208Z",
     "shell.execute_reply": "2022-04-29T14:16:59.051374Z"
    },
    "papermill": {
     "duration": 0.082392,
     "end_time": "2022-04-29T14:16:59.054013",
     "exception": false,
     "start_time": "2022-04-29T14:16:58.971621",
     "status": "completed"
    },
    "tags": []
   },
   "outputs": [
    {
     "data": {
      "text/plain": [
       "array([[0.38, 0.53, 2.  , ..., 3.  , 0.  , 0.  ],\n",
       "       [0.8 , 0.86, 5.  , ..., 6.  , 0.  , 0.  ],\n",
       "       [0.11, 0.88, 7.  , ..., 4.  , 0.  , 0.  ],\n",
       "       ...,\n",
       "       [0.37, 0.53, 2.  , ..., 3.  , 0.  , 0.  ],\n",
       "       [0.11, 0.96, 6.  , ..., 4.  , 0.  , 0.  ],\n",
       "       [0.37, 0.52, 2.  , ..., 3.  , 0.  , 0.  ]])"
      ]
     },
     "execution_count": 20,
     "metadata": {},
     "output_type": "execute_result"
    }
   ],
   "source": [
    "#support the features from labels\n",
    "X = df_drop.iloc[:,1:8].values\n",
    "y = df_drop.iloc[:,0].values\n",
    "X"
   ]
  },
  {
   "cell_type": "code",
   "execution_count": 21,
   "id": "1b5afcbd",
   "metadata": {
    "_cell_guid": "99b81187-14ce-5a27-c299-b62baba0ea8b",
    "execution": {
     "iopub.execute_input": "2022-04-29T14:16:59.198716Z",
     "iopub.status.busy": "2022-04-29T14:16:59.198439Z",
     "iopub.status.idle": "2022-04-29T14:16:59.205174Z",
     "shell.execute_reply": "2022-04-29T14:16:59.204206Z"
    },
    "papermill": {
     "duration": 0.081897,
     "end_time": "2022-04-29T14:16:59.207201",
     "exception": false,
     "start_time": "2022-04-29T14:16:59.125304",
     "status": "completed"
    },
    "tags": []
   },
   "outputs": [
    {
     "data": {
      "text/plain": [
       "array([1, 1, 1, ..., 1, 1, 1])"
      ]
     },
     "execution_count": 21,
     "metadata": {},
     "output_type": "execute_result"
    }
   ],
   "source": [
    "y"
   ]
  },
  {
   "cell_type": "code",
   "execution_count": 22,
   "id": "2d91fe79",
   "metadata": {
    "_cell_guid": "be17babb-5ffe-5c8a-c316-36eb17c67778",
    "execution": {
     "iopub.execute_input": "2022-04-29T14:16:59.352657Z",
     "iopub.status.busy": "2022-04-29T14:16:59.352395Z",
     "iopub.status.idle": "2022-04-29T14:16:59.357198Z",
     "shell.execute_reply": "2022-04-29T14:16:59.356474Z"
    },
    "papermill": {
     "duration": 0.079915,
     "end_time": "2022-04-29T14:16:59.359081",
     "exception": false,
     "start_time": "2022-04-29T14:16:59.279166",
     "status": "completed"
    },
    "tags": []
   },
   "outputs": [
    {
     "data": {
      "text/plain": [
       "(14999, 7)"
      ]
     },
     "execution_count": 22,
     "metadata": {},
     "output_type": "execute_result"
    }
   ],
   "source": [
    "np.shape(X)"
   ]
  },
  {
   "cell_type": "markdown",
   "id": "23d8ba85",
   "metadata": {
    "_cell_guid": "2568bcdd-9936-f79d-e332-9b1ad62caf3a",
    "papermill": {
     "duration": 0.071014,
     "end_time": "2022-04-29T14:16:59.502049",
     "exception": false,
     "start_time": "2022-04-29T14:16:59.431035",
     "status": "completed"
    },
    "tags": []
   },
   "source": [
    "Thus X is now matrix with 14999 rows and 7 columns"
   ]
  },
  {
   "cell_type": "code",
   "execution_count": 23,
   "id": "5de986ab",
   "metadata": {
    "_cell_guid": "87b4bbb6-92bb-bbee-9184-d380aa257add",
    "execution": {
     "iopub.execute_input": "2022-04-29T14:16:59.646732Z",
     "iopub.status.busy": "2022-04-29T14:16:59.646529Z",
     "iopub.status.idle": "2022-04-29T14:16:59.650755Z",
     "shell.execute_reply": "2022-04-29T14:16:59.650058Z"
    },
    "papermill": {
     "duration": 0.078656,
     "end_time": "2022-04-29T14:16:59.652402",
     "exception": false,
     "start_time": "2022-04-29T14:16:59.573746",
     "status": "completed"
    },
    "tags": []
   },
   "outputs": [
    {
     "data": {
      "text/plain": [
       "(14999,)"
      ]
     },
     "execution_count": 23,
     "metadata": {},
     "output_type": "execute_result"
    }
   ],
   "source": [
    "np.shape(y)"
   ]
  },
  {
   "cell_type": "markdown",
   "id": "99d38044",
   "metadata": {
    "_cell_guid": "59ca6356-f025-5e5b-fc56-a97fd03e40be",
    "papermill": {
     "duration": 0.072436,
     "end_time": "2022-04-29T14:16:59.797400",
     "exception": false,
     "start_time": "2022-04-29T14:16:59.724964",
     "status": "completed"
    },
    "tags": []
   },
   "source": [
    "y is now matrix with 14999 rows and 1 column"
   ]
  },
  {
   "cell_type": "markdown",
   "id": "860241fa",
   "metadata": {
    "_cell_guid": "c31ea24e-ce38-02d8-031f-3361c57d633f",
    "papermill": {
     "duration": 0.071375,
     "end_time": "2022-04-29T14:16:59.940481",
     "exception": false,
     "start_time": "2022-04-29T14:16:59.869106",
     "status": "completed"
    },
    "tags": []
   },
   "source": [
    "# 4) Data Standardisation\n",
    "Standardization refers to shifting the distribution of each attribute to have a mean of zero and a standard deviation of one (unit variance). It is useful to standardize attributes for a model."
   ]
  },
  {
   "cell_type": "code",
   "execution_count": 24,
   "id": "339b71cb",
   "metadata": {
    "_cell_guid": "0c518a19-10a5-97ed-b18f-e8e28d43cd6b",
    "execution": {
     "iopub.execute_input": "2022-04-29T14:17:00.085151Z",
     "iopub.status.busy": "2022-04-29T14:17:00.084933Z",
     "iopub.status.idle": "2022-04-29T14:17:00.228752Z",
     "shell.execute_reply": "2022-04-29T14:17:00.227422Z"
    },
    "papermill": {
     "duration": 0.219163,
     "end_time": "2022-04-29T14:17:00.231736",
     "exception": false,
     "start_time": "2022-04-29T14:17:00.012573",
     "status": "completed"
    },
    "tags": []
   },
   "outputs": [],
   "source": [
    "from sklearn.preprocessing import StandardScaler\n",
    "X_std = StandardScaler().fit_transform(X)"
   ]
  },
  {
   "cell_type": "markdown",
   "id": "002bbf7d",
   "metadata": {
    "_cell_guid": "40ebbdc2-7feb-ba0d-0154-1a47d53d4801",
    "papermill": {
     "duration": 0.072164,
     "end_time": "2022-04-29T14:17:00.375450",
     "exception": false,
     "start_time": "2022-04-29T14:17:00.303286",
     "status": "completed"
    },
    "tags": []
   },
   "source": [
    "# 5) Computing Eigenvectors and Eigenvalues:\n"
   ]
  },
  {
   "cell_type": "code",
   "execution_count": 25,
   "id": "2fe0bb84",
   "metadata": {
    "_cell_guid": "fd99a8b1-4ad0-de34-16dc-fa1ec6315aec",
    "execution": {
     "iopub.execute_input": "2022-04-29T14:17:00.521048Z",
     "iopub.status.busy": "2022-04-29T14:17:00.520799Z",
     "iopub.status.idle": "2022-04-29T14:17:00.532327Z",
     "shell.execute_reply": "2022-04-29T14:17:00.531054Z"
    },
    "papermill": {
     "duration": 0.088872,
     "end_time": "2022-04-29T14:17:00.536358",
     "exception": false,
     "start_time": "2022-04-29T14:17:00.447486",
     "status": "completed"
    },
    "tags": []
   },
   "outputs": [
    {
     "name": "stdout",
     "output_type": "stream",
     "text": [
      "Covariance matrix \n",
      "[[ 1.00006668  0.10502822 -0.14297912 -0.02004945 -0.1008728   0.05870115\n",
      "   0.02560689]\n",
      " [ 0.10502822  1.00006668  0.34935588  0.33976445  0.1315995  -0.00710476\n",
      "  -0.00868435]\n",
      " [-0.14297912  0.34935588  1.00006668  0.41723845  0.19679901 -0.00474086\n",
      "  -0.00606436]\n",
      " [-0.02004945  0.33976445  0.41723845  1.00006668  0.12776343 -0.01014356\n",
      "  -0.00354465]\n",
      " [-0.1008728   0.1315995   0.19679901  0.12776343  1.00006668  0.00212056\n",
      "   0.06743742]\n",
      " [ 0.05870115 -0.00710476 -0.00474086 -0.01014356  0.00212056  1.00006668\n",
      "   0.03924805]\n",
      " [ 0.02560689 -0.00868435 -0.00606436 -0.00354465  0.06743742  0.03924805\n",
      "   1.00006668]]\n"
     ]
    }
   ],
   "source": [
    "mean_vec = np.mean(X_std, axis=0)\n",
    "cov_mat = (X_std - mean_vec).T.dot((X_std - mean_vec)) / (X_std.shape[0]-1)\n",
    "print('Covariance matrix \\n%s' %cov_mat)"
   ]
  },
  {
   "cell_type": "code",
   "execution_count": 26,
   "id": "2302dfa3",
   "metadata": {
    "_cell_guid": "3d2ad526-3e39-8b21-efca-c9147f1dcf32",
    "execution": {
     "iopub.execute_input": "2022-04-29T14:17:00.703272Z",
     "iopub.status.busy": "2022-04-29T14:17:00.703035Z",
     "iopub.status.idle": "2022-04-29T14:17:00.708079Z",
     "shell.execute_reply": "2022-04-29T14:17:00.707141Z"
    },
    "papermill": {
     "duration": 0.087531,
     "end_time": "2022-04-29T14:17:00.711885",
     "exception": false,
     "start_time": "2022-04-29T14:17:00.624354",
     "status": "completed"
    },
    "tags": []
   },
   "outputs": [
    {
     "name": "stdout",
     "output_type": "stream",
     "text": [
      "NumPy covariance matrix: \n",
      "[[ 1.00006668  0.10502822 -0.14297912 -0.02004945 -0.1008728   0.05870115\n",
      "   0.02560689]\n",
      " [ 0.10502822  1.00006668  0.34935588  0.33976445  0.1315995  -0.00710476\n",
      "  -0.00868435]\n",
      " [-0.14297912  0.34935588  1.00006668  0.41723845  0.19679901 -0.00474086\n",
      "  -0.00606436]\n",
      " [-0.02004945  0.33976445  0.41723845  1.00006668  0.12776343 -0.01014356\n",
      "  -0.00354465]\n",
      " [-0.1008728   0.1315995   0.19679901  0.12776343  1.00006668  0.00212056\n",
      "   0.06743742]\n",
      " [ 0.05870115 -0.00710476 -0.00474086 -0.01014356  0.00212056  1.00006668\n",
      "   0.03924805]\n",
      " [ 0.02560689 -0.00868435 -0.00606436 -0.00354465  0.06743742  0.03924805\n",
      "   1.00006668]]\n"
     ]
    }
   ],
   "source": [
    "print('NumPy covariance matrix: \\n%s' %np.cov(X_std.T))"
   ]
  },
  {
   "cell_type": "code",
   "execution_count": 27,
   "id": "06548619",
   "metadata": {
    "_cell_guid": "36f9299f-ff1b-05b3-fc58-f193856003e8",
    "execution": {
     "iopub.execute_input": "2022-04-29T14:17:00.863704Z",
     "iopub.status.busy": "2022-04-29T14:17:00.863288Z",
     "iopub.status.idle": "2022-04-29T14:17:01.295690Z",
     "shell.execute_reply": "2022-04-29T14:17:01.294827Z"
    },
    "papermill": {
     "duration": 0.510017,
     "end_time": "2022-04-29T14:17:01.298146",
     "exception": false,
     "start_time": "2022-04-29T14:17:00.788129",
     "status": "completed"
    },
    "tags": []
   },
   "outputs": [
    {
     "data": {
      "text/plain": [
       "Text(0.5, 1.0, 'Correlation between different features')"
      ]
     },
     "execution_count": 27,
     "metadata": {},
     "output_type": "execute_result"
    },
    {
     "data": {
      "image/png": "[encoded data removed]",
      "text/plain": [
       "<Figure size 576x576 with 2 Axes>"
      ]
     },
     "metadata": {
      "needs_background": "light"
     },
     "output_type": "display_data"
    }
   ],
   "source": [
    "plt.figure(figsize=(8,8))\n",
    "sns.heatmap(cov_mat, vmax=1, square=True,annot=True,cmap='cubehelix')\n",
    "\n",
    "plt.title('Correlation between different features')"
   ]
  },
  {
   "cell_type": "markdown",
   "id": "b3a31122",
   "metadata": {
    "_cell_guid": "eff69898-d80f-4b7e-6fb2-5ad387d03011",
    "papermill": {
     "duration": 0.074371,
     "end_time": "2022-04-29T14:17:01.447421",
     "exception": false,
     "start_time": "2022-04-29T14:17:01.373050",
     "status": "completed"
    },
    "tags": []
   },
   "source": [
    "# Eigen decomposition of the covariance matrix"
   ]
  },
  {
   "cell_type": "code",
   "execution_count": 28,
   "id": "d14cb15f",
   "metadata": {
    "_cell_guid": "aaa8cb48-91db-8f89-afd6-2899a0b7ba35",
    "execution": {
     "iopub.execute_input": "2022-04-29T14:17:01.597735Z",
     "iopub.status.busy": "2022-04-29T14:17:01.597180Z",
     "iopub.status.idle": "2022-04-29T14:17:01.614516Z",
     "shell.execute_reply": "2022-04-29T14:17:01.613073Z"
    },
    "papermill": {
     "duration": 0.095079,
     "end_time": "2022-04-29T14:17:01.616791",
     "exception": false,
     "start_time": "2022-04-29T14:17:01.521712",
     "status": "completed"
    },
    "tags": []
   },
   "outputs": [
    {
     "name": "stdout",
     "output_type": "stream",
     "text": [
      "Eigenvectors \n",
      "[[-0.08797699 -0.29189921  0.27784886  0.33637135  0.79752505  0.26786864\n",
      "  -0.09438973]\n",
      " [ 0.50695734  0.30996609 -0.70780994  0.07393548  0.33180877  0.1101505\n",
      "  -0.13499526]\n",
      " [ 0.5788351  -0.77736008 -0.00657105 -0.19677589 -0.10338032 -0.10336241\n",
      "  -0.02293518]\n",
      " [ 0.54901653  0.45787675  0.63497294 -0.25170987  0.10388959 -0.01034922\n",
      "  -0.10714981]\n",
      " [ 0.31354922  0.05287224  0.12200054  0.78782241 -0.28404472  0.04036861\n",
      "   0.42547869]\n",
      " [-0.01930249  0.04433104 -0.03622859 -0.05762997  0.37489883 -0.8048393\n",
      "   0.45245222]\n",
      " [ 0.00996933  0.00391698 -0.04873036 -0.39411153  0.10557298  0.50589173\n",
      "   0.75836313]]\n",
      "\n",
      "Eigenvalues \n",
      "[1.83017431 0.54823098 0.63363587 0.84548166 1.12659606 0.95598647\n",
      " 1.06036136]\n"
     ]
    }
   ],
   "source": [
    "eig_vals, eig_vecs = np.linalg.eig(cov_mat)\n",
    "\n",
    "print('Eigenvectors \\n%s' %eig_vecs)\n",
    "print('\\nEigenvalues \\n%s' %eig_vals)\n"
   ]
  },
  {
   "cell_type": "code",
   "execution_count": 29,
   "id": "725491d2",
   "metadata": {
    "_cell_guid": "a3831b13-faac-0ed9-1623-845dd1f8ff5a",
    "execution": {
     "iopub.execute_input": "2022-04-29T14:17:01.770657Z",
     "iopub.status.busy": "2022-04-29T14:17:01.770118Z",
     "iopub.status.idle": "2022-04-29T14:17:01.773121Z",
     "shell.execute_reply": "2022-04-29T14:17:01.772392Z"
    },
    "papermill": {
     "duration": 0.081197,
     "end_time": "2022-04-29T14:17:01.774808",
     "exception": false,
     "start_time": "2022-04-29T14:17:01.693611",
     "status": "completed"
    },
    "tags": []
   },
   "outputs": [],
   "source": [
    "# 6) Selecting Principal Components¶"
   ]
  },
  {
   "cell_type": "markdown",
   "id": "88ec1077",
   "metadata": {
    "_cell_guid": "3e301e61-6c3f-34bd-6939-fce77aa98c6f",
    "papermill": {
     "duration": 0.07701,
     "end_time": "2022-04-29T14:17:01.928622",
     "exception": false,
     "start_time": "2022-04-29T14:17:01.851612",
     "status": "completed"
    },
    "tags": []
   },
   "source": [
    "# 6) Selecting Principal Components\n",
    "\n",
    "T\n",
    "In order to decide which eigenvector(s) can dropped without losing too much information for the construction of lower-dimensional subspace, we need to inspect the corresponding eigenvalues: The eigenvectors with the lowest eigenvalues bear the least information about the distribution of the data."
   ]
  },
  {
   "cell_type": "code",
   "execution_count": 30,
   "id": "48c8e869",
   "metadata": {
    "_cell_guid": "4a1a33f8-0b32-ba34-6b70-e0906c381c29",
    "execution": {
     "iopub.execute_input": "2022-04-29T14:17:02.083289Z",
     "iopub.status.busy": "2022-04-29T14:17:02.082857Z",
     "iopub.status.idle": "2022-04-29T14:17:02.089385Z",
     "shell.execute_reply": "2022-04-29T14:17:02.088282Z"
    },
    "papermill": {
     "duration": 0.08545,
     "end_time": "2022-04-29T14:17:02.091407",
     "exception": false,
     "start_time": "2022-04-29T14:17:02.005957",
     "status": "completed"
    },
    "tags": []
   },
   "outputs": [
    {
     "name": "stdout",
     "output_type": "stream",
     "text": [
      "Eigenvalues in descending order:\n",
      "1.8301743138755011\n",
      "1.1265960639915473\n",
      "1.060361362284085\n",
      "0.9559864740066258\n",
      "0.8454816637143463\n",
      "0.6336358744830214\n",
      "0.5482309765420612\n"
     ]
    }
   ],
   "source": [
    "eig_pairs = [(np.abs(eig_vals[i]), eig_vecs[:,i]) for i in range(len(eig_vals))]\n",
    "eig_pairs.sort(key=lambda x: x[0], reverse=True)\n",
    "print('Eigenvalues in descending order:')\n",
    "for i in eig_pairs:\n",
    "    print(i[0])"
   ]
  },
  {
   "cell_type": "code",
   "execution_count": 31,
   "id": "8985a46d",
   "metadata": {
    "_cell_guid": "6ecc2703-a0a8-9feb-0026-d37380860b7f",
    "execution": {
     "iopub.execute_input": "2022-04-29T14:17:02.236291Z",
     "iopub.status.busy": "2022-04-29T14:17:02.236019Z",
     "iopub.status.idle": "2022-04-29T14:17:02.241370Z",
     "shell.execute_reply": "2022-04-29T14:17:02.240001Z"
    },
    "papermill": {
     "duration": 0.0793,
     "end_time": "2022-04-29T14:17:02.243050",
     "exception": false,
     "start_time": "2022-04-29T14:17:02.163750",
     "status": "completed"
    },
    "tags": []
   },
   "outputs": [],
   "source": [
    "tot = sum(eig_vals)\n",
    "var_exp = [(i / tot)*100 for i in sorted(eig_vals, reverse=True)]"
   ]
  },
  {
   "cell_type": "code",
   "execution_count": 32,
   "id": "ae08e33d",
   "metadata": {
    "_cell_guid": "13ccc0b4-2e08-9394-7a77-ef31c31fd748",
    "execution": {
     "iopub.execute_input": "2022-04-29T14:17:02.387997Z",
     "iopub.status.busy": "2022-04-29T14:17:02.387584Z",
     "iopub.status.idle": "2022-04-29T14:17:02.601191Z",
     "shell.execute_reply": "2022-04-29T14:17:02.600506Z"
    },
    "papermill": {
     "duration": 0.288559,
     "end_time": "2022-04-29T14:17:02.602959",
     "exception": false,
     "start_time": "2022-04-29T14:17:02.314400",
     "status": "completed"
    },
    "tags": []
   },
   "outputs": [
    {
     "data": {
      "image/png": "[encoded data removed]",
      "text/plain": [
       "<Figure size 432x288 with 1 Axes>"
      ]
     },
     "metadata": {},
     "output_type": "display_data"
    }
   ],
   "source": [
    "with plt.style.context('dark_background'):\n",
    "    plt.figure(figsize=(6, 4))\n",
    "    plt.bar(range(7), var_exp, alpha=0.5, align='center',label='individual explained variance')\n",
    "    plt.ylabel('Explained variance ratio')\n",
    "    plt.xlabel('Principal components')\n",
    "    plt.legend(loc='best')\n",
    "    plt.tight_layout()"
   ]
  },
  {
   "cell_type": "markdown",
   "id": "081b52a6",
   "metadata": {
    "_cell_guid": "490be121-226a-2a21-2dcf-8dab376007dc",
    "papermill": {
     "duration": 0.078267,
     "end_time": "2022-04-29T14:17:02.758991",
     "exception": false,
     "start_time": "2022-04-29T14:17:02.680724",
     "status": "completed"
    },
    "tags": []
   },
   "source": [
    "**Projection Matrix**"
   ]
  },
  {
   "cell_type": "markdown",
   "id": "2d3e619e",
   "metadata": {
    "_cell_guid": "58c8d070-8fd6-74b4-fd8c-b858d17bb93f",
    "papermill": {
     "duration": 0.073614,
     "end_time": "2022-04-29T14:17:02.910222",
     "exception": false,
     "start_time": "2022-04-29T14:17:02.836608",
     "status": "completed"
    },
    "tags": []
   },
   "source": [
    "The construction of the projection matrix that will be used to transform the Human resouces analytics data onto the new feature subspace. **Suppose only 1st and 2nd principal component shares the maximum amount of information say around 90%**.Hence we can drop other components. Here, we are reducing the 7-dimensional feature space to a 2-dimensional feature subspace, by choosing the “top 2” eigenvectors with the highest eigenvalues to construct our d×k-dimensional eigenvector matrix W\n"
   ]
  },
  {
   "cell_type": "code",
   "execution_count": 33,
   "id": "94b106af",
   "metadata": {
    "_cell_guid": "bf556dc8-b89a-9f3b-5ec8-1206cc42fdb4",
    "execution": {
     "iopub.execute_input": "2022-04-29T14:17:03.061310Z",
     "iopub.status.busy": "2022-04-29T14:17:03.061006Z",
     "iopub.status.idle": "2022-04-29T14:17:03.068778Z",
     "shell.execute_reply": "2022-04-29T14:17:03.068027Z"
    },
    "papermill": {
     "duration": 0.086449,
     "end_time": "2022-04-29T14:17:03.070287",
     "exception": false,
     "start_time": "2022-04-29T14:17:02.983838",
     "status": "completed"
    },
    "tags": []
   },
   "outputs": [
    {
     "name": "stdout",
     "output_type": "stream",
     "text": [
      "Matrix W:\n",
      " [[-0.08797699  0.79752505 -0.09438973  0.26786864]\n",
      " [ 0.50695734  0.33180877 -0.13499526  0.1101505 ]\n",
      " [ 0.5788351  -0.10338032 -0.02293518 -0.10336241]\n",
      " [ 0.54901653  0.10388959 -0.10714981 -0.01034922]\n",
      " [ 0.31354922 -0.28404472  0.42547869  0.04036861]\n",
      " [-0.01930249  0.37489883  0.45245222 -0.8048393 ]\n",
      " [ 0.00996933  0.10557298  0.75836313  0.50589173]]\n"
     ]
    }
   ],
   "source": [
    "matrix_w = np.hstack((eig_pairs[0][1].reshape(7,1),eig_pairs[1][1].reshape(7,1),eig_pairs[2][1].reshape(7,1),eig_pairs[3][1].reshape(7,1)))\n",
    "print('Matrix W:\\n', matrix_w)"
   ]
  },
  {
   "cell_type": "markdown",
   "id": "69ca78d4",
   "metadata": {
    "_cell_guid": "fe78ecb6-61ba-3ce7-2407-f6ad6ca022ba",
    "papermill": {
     "duration": 0.050989,
     "end_time": "2022-04-29T14:17:03.173978",
     "exception": false,
     "start_time": "2022-04-29T14:17:03.122989",
     "status": "completed"
    },
    "tags": []
   },
   "source": [
    "**Projection Onto the New Feature Space**\n",
    "In this last step use the 7×2-dimensional projection matrix W to transform our samples onto the new subspace via the equation\n",
    "**Y=X×W**"
   ]
  },
  {
   "cell_type": "code",
   "execution_count": 34,
   "id": "dd26cfb6",
   "metadata": {
    "_cell_guid": "55040b4e-b6f2-fe75-54e8-cf2e5c2961b5",
    "execution": {
     "iopub.execute_input": "2022-04-29T14:17:03.277587Z",
     "iopub.status.busy": "2022-04-29T14:17:03.277220Z",
     "iopub.status.idle": "2022-04-29T14:17:03.288072Z",
     "shell.execute_reply": "2022-04-29T14:17:03.287510Z"
    },
    "papermill": {
     "duration": 0.065541,
     "end_time": "2022-04-29T14:17:03.290502",
     "exception": false,
     "start_time": "2022-04-29T14:17:03.224961",
     "status": "completed"
    },
    "tags": []
   },
   "outputs": [
    {
     "data": {
      "text/plain": [
       "array([[-1.90035018, -1.12083103, -0.0797787 ,  0.03228437],\n",
       "       [ 2.1358322 ,  0.2493369 ,  0.0936161 ,  0.50676925],\n",
       "       [ 3.05891625, -1.68312693, -0.301682  , -0.4488635 ],\n",
       "       ...,\n",
       "       [-2.0507165 , -1.182032  , -0.04594506,  0.02441143],\n",
       "       [ 2.91418496, -1.42752606, -0.36333357, -0.31517759],\n",
       "       [-1.91543672, -1.17021407, -0.07024077,  0.01486762]])"
      ]
     },
     "execution_count": 34,
     "metadata": {},
     "output_type": "execute_result"
    }
   ],
   "source": [
    "Y = X_std.dot(matrix_w)\n",
    "Y"
   ]
  },
  {
   "cell_type": "markdown",
   "id": "e4756769",
   "metadata": {
    "_cell_guid": "73d741cc-2761-4fd3-8f04-830385ee7e1a",
    "papermill": {
     "duration": 0.080021,
     "end_time": "2022-04-29T14:17:03.466824",
     "exception": false,
     "start_time": "2022-04-29T14:17:03.386803",
     "status": "completed"
    },
    "tags": []
   },
   "source": [
    "# PCA in scikit-learn"
   ]
  },
  {
   "cell_type": "code",
   "execution_count": 35,
   "id": "24e00d3b",
   "metadata": {
    "_cell_guid": "2032535a-7c1e-a5b7-9135-80e19c3c8490",
    "execution": {
     "iopub.execute_input": "2022-04-29T14:17:03.624638Z",
     "iopub.status.busy": "2022-04-29T14:17:03.624362Z",
     "iopub.status.idle": "2022-04-29T14:17:04.140617Z",
     "shell.execute_reply": "2022-04-29T14:17:04.139513Z"
    },
    "papermill": {
     "duration": 0.597619,
     "end_time": "2022-04-29T14:17:04.142510",
     "exception": false,
     "start_time": "2022-04-29T14:17:03.544891",
     "status": "completed"
    },
    "tags": []
   },
   "outputs": [
    {
     "data": {
      "text/plain": [
       "Text(0, 0.5, 'Cumulative explained variance')"
      ]
     },
     "execution_count": 35,
     "metadata": {},
     "output_type": "execute_result"
    },
    {
     "data": {
      "image/png": "[encoded data removed]",
      "text/plain": [
       "<Figure size 432x288 with 1 Axes>"
      ]
     },
     "metadata": {
      "needs_background": "light"
     },
     "output_type": "display_data"
    }
   ],
   "source": [
    "from sklearn.decomposition import PCA\n",
    "pca = PCA().fit(X_std)\n",
    "plt.plot(np.cumsum(pca.explained_variance_ratio_))\n",
    "plt.xlim(0,7,1)\n",
    "plt.xlabel('Number of components')\n",
    "plt.ylabel('Cumulative explained variance')"
   ]
  },
  {
   "cell_type": "markdown",
   "id": "4f215d3f",
   "metadata": {
    "_cell_guid": "fd485349-31dc-fbca-ee6b-ec445cf50349",
    "papermill": {
     "duration": 0.076131,
     "end_time": "2022-04-29T14:17:04.293839",
     "exception": false,
     "start_time": "2022-04-29T14:17:04.217708",
     "status": "completed"
    },
    "tags": []
   },
   "source": [
    "The above plot shows almost 90% variance by the first 6 components. Therfore we can drop 7th component."
   ]
  },
  {
   "cell_type": "code",
   "execution_count": 36,
   "id": "6b428580",
   "metadata": {
    "_cell_guid": "2b886668-1151-740e-f895-acda6d54bbf0",
    "execution": {
     "iopub.execute_input": "2022-04-29T14:17:04.445645Z",
     "iopub.status.busy": "2022-04-29T14:17:04.445364Z",
     "iopub.status.idle": "2022-04-29T14:17:04.460481Z",
     "shell.execute_reply": "2022-04-29T14:17:04.459902Z"
    },
    "papermill": {
     "duration": 0.093292,
     "end_time": "2022-04-29T14:17:04.462353",
     "exception": false,
     "start_time": "2022-04-29T14:17:04.369061",
     "status": "completed"
    },
    "tags": []
   },
   "outputs": [],
   "source": [
    "from sklearn.decomposition import PCA #drop \n",
    "sklearn_pca = PCA(n_components=6)\n",
    "Y_sklearn = sklearn_pca.fit_transform(X_std)"
   ]
  },
  {
   "cell_type": "code",
   "execution_count": 37,
   "id": "65411f24",
   "metadata": {
    "_cell_guid": "9ac6a338-34a3-0b59-ccde-e6522ffa59e7",
    "execution": {
     "iopub.execute_input": "2022-04-29T14:17:04.634482Z",
     "iopub.status.busy": "2022-04-29T14:17:04.633312Z",
     "iopub.status.idle": "2022-04-29T14:17:04.639171Z",
     "shell.execute_reply": "2022-04-29T14:17:04.638072Z"
    },
    "papermill": {
     "duration": 0.088162,
     "end_time": "2022-04-29T14:17:04.640818",
     "exception": false,
     "start_time": "2022-04-29T14:17:04.552656",
     "status": "completed"
    },
    "tags": []
   },
   "outputs": [
    {
     "name": "stdout",
     "output_type": "stream",
     "text": [
      "[[-1.90035018 -1.12083103 -0.0797787   0.03228437 -0.07256447  0.06063013]\n",
      " [ 2.1358322   0.2493369   0.0936161   0.50676925  1.2487747  -0.61378158]\n",
      " [ 3.05891625 -1.68312693 -0.301682   -0.4488635  -1.12495888  0.29066929]\n",
      " ...\n",
      " [-2.0507165  -1.182032   -0.04594506  0.02441143 -0.01553247  0.24980658]\n",
      " [ 2.91418496 -1.42752606 -0.36333357 -0.31517759 -0.97107375  0.51444624]\n",
      " [-1.91543672 -1.17021407 -0.07024077  0.01486762 -0.09545357  0.01773844]]\n"
     ]
    }
   ],
   "source": [
    "print(Y_sklearn)"
   ]
  },
  {
   "cell_type": "code",
   "execution_count": 38,
   "id": "3f0e4d0e",
   "metadata": {
    "_cell_guid": "6d8f47c5-df6d-748e-f6c0-016200f3fde6",
    "execution": {
     "iopub.execute_input": "2022-04-29T14:17:04.802057Z",
     "iopub.status.busy": "2022-04-29T14:17:04.801593Z",
     "iopub.status.idle": "2022-04-29T14:17:04.806404Z",
     "shell.execute_reply": "2022-04-29T14:17:04.805834Z"
    },
    "papermill": {
     "duration": 0.087831,
     "end_time": "2022-04-29T14:17:04.808195",
     "exception": false,
     "start_time": "2022-04-29T14:17:04.720364",
     "status": "completed"
    },
    "tags": []
   },
   "outputs": [
    {
     "data": {
      "text/plain": [
       "(14999, 6)"
      ]
     },
     "execution_count": 38,
     "metadata": {},
     "output_type": "execute_result"
    }
   ],
   "source": [
    "Y_sklearn.shape"
   ]
  }
 ],
 "metadata": {
  "kernelspec": {
   "display_name": "Python 3",
   "language": "python",
   "name": "python3"
  },
  "language_info": {
   "codemirror_mode": {
    "name": "ipython",
    "version": 3
   },
   "file_extension": ".py",
   "mimetype": "text/x-python",
   "name": "python",
   "nbconvert_exporter": "python",
   "pygments_lexer": "ipython3",
   "version": "3.7.12"
  },
  "papermill": {
   "default_parameters": {},
   "duration": 22.224784,
   "end_time": "2022-04-29T14:17:05.905769",
   "environment_variables": {},
   "exception": null,
   "input_path": "__notebook__.ipynb",
   "output_path": "__notebook__.ipynb",
   "parameters": {},
   "start_time": "2022-04-29T14:16:43.680985",
   "version": "2.3.4"
  }
 },
 "nbformat": 4,
 "nbformat_minor": 5
}
